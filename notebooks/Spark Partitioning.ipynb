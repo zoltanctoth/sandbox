{
 "cells": [
  {
   "cell_type": "code",
   "execution_count": 139,
   "metadata": {
    "collapsed": false
   },
   "outputs": [
    {
     "name": "stdout",
     "output_type": "stream",
     "text": [
      "[1, 2, 3, 4, 5, 6, 7, 8, 9, 10, 11, 12, 13, 14, 15, 16, 17, 18, 19, 20]\n"
     ]
    }
   ],
   "source": [
    "rdd = sc.parallelize(xrange(1,1000))\n",
    "print rdd.take(20)"
   ]
  },
  {
   "cell_type": "code",
   "execution_count": 140,
   "metadata": {
    "collapsed": false
   },
   "outputs": [
    {
     "data": {
      "text/plain": [
       "3"
      ]
     },
     "execution_count": 140,
     "metadata": {},
     "output_type": "execute_result"
    }
   ],
   "source": [
    "rdd.getNumPartitions()"
   ]
  },
  {
   "cell_type": "code",
   "execution_count": 143,
   "metadata": {
    "collapsed": false
   },
   "outputs": [
    {
     "name": "stdout",
     "output_type": "stream",
     "text": [
      "Got a Pair RDD with 7 keys and 3 partitions\n",
      "OK Asked for 1 partitions, got 1 partitions. Non-empty partitions: 1 (100%). Non-empty partitions after grouping 1\n",
      "OK Asked for 2 partitions, got 2 partitions. Non-empty partitions: 2 (100%). Non-empty partitions after grouping 2\n",
      "OK Asked for 3 partitions, got 3 partitions. Non-empty partitions: 3 (100%). Non-empty partitions after grouping 3\n",
      "OK Asked for 4 partitions, got 4 partitions. Non-empty partitions: 4 (100%). Non-empty partitions after grouping 4\n",
      "OK Asked for 5 partitions, got 5 partitions. Non-empty partitions: 5 (100%). Non-empty partitions after grouping 5\n",
      "OK Asked for 6 partitions, got 6 partitions. Non-empty partitions: 6 (100%). Non-empty partitions after grouping 6\n",
      "OK Asked for 7 partitions, got 7 partitions. Non-empty partitions: 7 (100%). Non-empty partitions after grouping 7\n",
      "OK Asked for 8 partitions, got 8 partitions. Non-empty partitions: 8 (100%). Non-empty partitions after grouping 7\n",
      "OK Asked for 9 partitions, got 9 partitions. Non-empty partitions: 9 (100%). Non-empty partitions after grouping 7\n",
      "OK Asked for 10 partitions, got 10 partitions. Non-empty partitions: 10 (100%). Non-empty partitions after grouping 7\n",
      "OK Asked for 11 partitions, got 11 partitions. Non-empty partitions: 11 (100%). Non-empty partitions after grouping 7\n",
      "OK Asked for 12 partitions, got 12 partitions. Non-empty partitions: 12 (100%). Non-empty partitions after grouping 7\n",
      "OK Asked for 13 partitions, got 13 partitions. Non-empty partitions: 10 (76%). Non-empty partitions after grouping 7\n",
      "OK Asked for 14 partitions, got 14 partitions. Non-empty partitions: 10 (71%). Non-empty partitions after grouping 7\n",
      "OK Asked for 15 partitions, got 15 partitions. Non-empty partitions: 11 (73%). Non-empty partitions after grouping 7\n",
      "OK Asked for 20 partitions, got 20 partitions. Non-empty partitions: 17 (85%). Non-empty partitions after grouping 7\n",
      "OK Asked for 30 partitions, got 30 partitions. Non-empty partitions: 20 (66%). Non-empty partitions after grouping 7\n",
      "OK Asked for 50 partitions, got 50 partitions. Non-empty partitions: 20 (40%). Non-empty partitions after grouping 7\n",
      "OK Asked for 100 partitions, got 100 partitions. Non-empty partitions: 27 (27%). Non-empty partitions after grouping 7\n"
     ]
    }
   ],
   "source": [
    "import random\n",
    "random.seed(273)\n",
    "\n",
    "base_pair_rdd = rdd.map(lambda x: (random.randint(1,7), x))\n",
    "\n",
    "print \"Got a Pair RDD with %d keys and %d partitions\" % (base_pair_rdd.groupByKey().count(), base_pair_rdd.getNumPartitions())\n",
    "\n",
    "for partitions in [1,2,3,4,5,6,7,8,9,10,11,12,13,14,15,20,30,50,100]:\n",
    "    pair_rdd = base_pair_rdd.repartition(partitions).cache()\n",
    "    actual_partitions = pair_rdd.getNumPartitions()\n",
    "    is_ok = \"OK\" if partitions == actual_partitions else \"!!\"\n",
    "    nonempty_partitions =  pair_rdd.mapPartitions(lambda i: [len(list(i))]).filter(lambda x: x > 0).count()\n",
    "    nonempty_groups = pair_rdd.groupByKey().mapPartitions(lambda i: [len(list(i))]).filter(lambda x: x > 0).count()\n",
    "    print \"%s Asked for %d partitions, got %d partitions. Non-empty partitions: %d (%d%%). Non-empty partitions after grouping %d\" % \\\n",
    "        (is_ok, partitions, actual_partitions, nonempty_partitions, nonempty_partitions*100/actual_partitions, nonempty_groups)\n",
    "    "
   ]
  },
  {
   "cell_type": "code",
   "execution_count": null,
   "metadata": {
    "collapsed": true
   },
   "outputs": [],
   "source": []
  }
 ],
 "metadata": {
  "kernelspec": {
   "display_name": "Python 2",
   "language": "python",
   "name": "python2"
  },
  "language_info": {
   "codemirror_mode": {
    "name": "ipython",
    "version": 2
   },
   "file_extension": ".py",
   "mimetype": "text/x-python",
   "name": "python",
   "nbconvert_exporter": "python",
   "pygments_lexer": "ipython2",
   "version": "2.7.10"
  }
 },
 "nbformat": 4,
 "nbformat_minor": 0
}
